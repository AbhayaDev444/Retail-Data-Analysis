{
 "cells": [
  {
   "cell_type": "code",
   "execution_count": 1,
   "id": "a84ca19f",
   "metadata": {},
   "outputs": [
    {
     "data": {
      "text/plain": [
       "'/Users/macbookair'"
      ]
     },
     "execution_count": 1,
     "metadata": {},
     "output_type": "execute_result"
    }
   ],
   "source": [
    "pwd"
   ]
  },
  {
   "cell_type": "code",
   "execution_count": 2,
   "id": "f27a5758",
   "metadata": {},
   "outputs": [
    {
     "name": "stdout",
     "output_type": "stream",
     "text": [
      "/Users/macbookair/Desktop/DS360/Case Studies/Python/Python Foundation Case Study 1 - Retail Case Study\n"
     ]
    }
   ],
   "source": [
    "\n",
    "%cd \"/Users/macbookair/Desktop/DS360/Case Studies/Python/Python Foundation Case Study 1 - Retail Case Study\""
   ]
  },
  {
   "cell_type": "code",
   "execution_count": 3,
   "id": "131b649b",
   "metadata": {},
   "outputs": [],
   "source": [
    "import pandas as pd\n",
    "import numpy as np\n",
    "import datetime as dt"
   ]
  },
  {
   "cell_type": "code",
   "execution_count": 4,
   "id": "6babe8c3",
   "metadata": {},
   "outputs": [],
   "source": [
    "customer = pd.read_csv('Customer.csv')\n",
    "prodcat = pd.read_csv('prod_cat_info.csv')\n",
    "trns = pd.read_csv('transactions.csv')"
   ]
  },
  {
   "cell_type": "code",
   "execution_count": 5,
   "id": "e3bacebf",
   "metadata": {},
   "outputs": [
    {
     "data": {
      "text/html": [
       "<div>\n",
       "<style scoped>\n",
       "    .dataframe tbody tr th:only-of-type {\n",
       "        vertical-align: middle;\n",
       "    }\n",
       "\n",
       "    .dataframe tbody tr th {\n",
       "        vertical-align: top;\n",
       "    }\n",
       "\n",
       "    .dataframe thead th {\n",
       "        text-align: right;\n",
       "    }\n",
       "</style>\n",
       "<table border=\"1\" class=\"dataframe\">\n",
       "  <thead>\n",
       "    <tr style=\"text-align: right;\">\n",
       "      <th></th>\n",
       "      <th>customer_Id</th>\n",
       "      <th>DOB</th>\n",
       "      <th>Gender</th>\n",
       "      <th>city_code</th>\n",
       "    </tr>\n",
       "  </thead>\n",
       "  <tbody>\n",
       "    <tr>\n",
       "      <th>0</th>\n",
       "      <td>268408</td>\n",
       "      <td>02-01-1970</td>\n",
       "      <td>M</td>\n",
       "      <td>4.0</td>\n",
       "    </tr>\n",
       "    <tr>\n",
       "      <th>1</th>\n",
       "      <td>269696</td>\n",
       "      <td>07-01-1970</td>\n",
       "      <td>F</td>\n",
       "      <td>8.0</td>\n",
       "    </tr>\n",
       "    <tr>\n",
       "      <th>2</th>\n",
       "      <td>268159</td>\n",
       "      <td>08-01-1970</td>\n",
       "      <td>F</td>\n",
       "      <td>8.0</td>\n",
       "    </tr>\n",
       "    <tr>\n",
       "      <th>3</th>\n",
       "      <td>270181</td>\n",
       "      <td>10-01-1970</td>\n",
       "      <td>F</td>\n",
       "      <td>2.0</td>\n",
       "    </tr>\n",
       "    <tr>\n",
       "      <th>4</th>\n",
       "      <td>268073</td>\n",
       "      <td>11-01-1970</td>\n",
       "      <td>M</td>\n",
       "      <td>1.0</td>\n",
       "    </tr>\n",
       "  </tbody>\n",
       "</table>\n",
       "</div>"
      ],
      "text/plain": [
       "   customer_Id         DOB Gender  city_code\n",
       "0       268408  02-01-1970      M        4.0\n",
       "1       269696  07-01-1970      F        8.0\n",
       "2       268159  08-01-1970      F        8.0\n",
       "3       270181  10-01-1970      F        2.0\n",
       "4       268073  11-01-1970      M        1.0"
      ]
     },
     "execution_count": 5,
     "metadata": {},
     "output_type": "execute_result"
    }
   ],
   "source": [
    "customer.head()"
   ]
  },
  {
   "cell_type": "code",
   "execution_count": 6,
   "id": "9efc60ea",
   "metadata": {},
   "outputs": [
    {
     "data": {
      "text/plain": [
       "(5647, 4)"
      ]
     },
     "execution_count": 6,
     "metadata": {},
     "output_type": "execute_result"
    }
   ],
   "source": [
    "customer.shape"
   ]
  },
  {
   "cell_type": "code",
   "execution_count": 7,
   "id": "057ac6fd",
   "metadata": {},
   "outputs": [
    {
     "data": {
      "text/html": [
       "<div>\n",
       "<style scoped>\n",
       "    .dataframe tbody tr th:only-of-type {\n",
       "        vertical-align: middle;\n",
       "    }\n",
       "\n",
       "    .dataframe tbody tr th {\n",
       "        vertical-align: top;\n",
       "    }\n",
       "\n",
       "    .dataframe thead th {\n",
       "        text-align: right;\n",
       "    }\n",
       "</style>\n",
       "<table border=\"1\" class=\"dataframe\">\n",
       "  <thead>\n",
       "    <tr style=\"text-align: right;\">\n",
       "      <th></th>\n",
       "      <th>prod_cat_code</th>\n",
       "      <th>prod_cat</th>\n",
       "      <th>prod_sub_cat_code</th>\n",
       "      <th>prod_subcat</th>\n",
       "    </tr>\n",
       "  </thead>\n",
       "  <tbody>\n",
       "    <tr>\n",
       "      <th>0</th>\n",
       "      <td>1</td>\n",
       "      <td>Clothing</td>\n",
       "      <td>4</td>\n",
       "      <td>Mens</td>\n",
       "    </tr>\n",
       "    <tr>\n",
       "      <th>1</th>\n",
       "      <td>1</td>\n",
       "      <td>Clothing</td>\n",
       "      <td>1</td>\n",
       "      <td>Women</td>\n",
       "    </tr>\n",
       "    <tr>\n",
       "      <th>2</th>\n",
       "      <td>1</td>\n",
       "      <td>Clothing</td>\n",
       "      <td>3</td>\n",
       "      <td>Kids</td>\n",
       "    </tr>\n",
       "    <tr>\n",
       "      <th>3</th>\n",
       "      <td>2</td>\n",
       "      <td>Footwear</td>\n",
       "      <td>1</td>\n",
       "      <td>Mens</td>\n",
       "    </tr>\n",
       "    <tr>\n",
       "      <th>4</th>\n",
       "      <td>2</td>\n",
       "      <td>Footwear</td>\n",
       "      <td>3</td>\n",
       "      <td>Women</td>\n",
       "    </tr>\n",
       "  </tbody>\n",
       "</table>\n",
       "</div>"
      ],
      "text/plain": [
       "   prod_cat_code  prod_cat  prod_sub_cat_code prod_subcat\n",
       "0              1  Clothing                  4        Mens\n",
       "1              1  Clothing                  1       Women\n",
       "2              1  Clothing                  3        Kids\n",
       "3              2  Footwear                  1        Mens\n",
       "4              2  Footwear                  3       Women"
      ]
     },
     "execution_count": 7,
     "metadata": {},
     "output_type": "execute_result"
    }
   ],
   "source": [
    "prodcat.head()"
   ]
  },
  {
   "cell_type": "code",
   "execution_count": 8,
   "id": "046c18d3",
   "metadata": {},
   "outputs": [
    {
     "data": {
      "text/plain": [
       "(23, 4)"
      ]
     },
     "execution_count": 8,
     "metadata": {},
     "output_type": "execute_result"
    }
   ],
   "source": [
    "prodcat.shape"
   ]
  },
  {
   "cell_type": "code",
   "execution_count": 9,
   "id": "d9194c3e",
   "metadata": {},
   "outputs": [
    {
     "data": {
      "text/html": [
       "<div>\n",
       "<style scoped>\n",
       "    .dataframe tbody tr th:only-of-type {\n",
       "        vertical-align: middle;\n",
       "    }\n",
       "\n",
       "    .dataframe tbody tr th {\n",
       "        vertical-align: top;\n",
       "    }\n",
       "\n",
       "    .dataframe thead th {\n",
       "        text-align: right;\n",
       "    }\n",
       "</style>\n",
       "<table border=\"1\" class=\"dataframe\">\n",
       "  <thead>\n",
       "    <tr style=\"text-align: right;\">\n",
       "      <th></th>\n",
       "      <th>transaction_id</th>\n",
       "      <th>cust_id</th>\n",
       "      <th>tran_date</th>\n",
       "      <th>prod_subcat_code</th>\n",
       "      <th>prod_cat_code</th>\n",
       "      <th>Qty</th>\n",
       "      <th>Rate</th>\n",
       "      <th>Tax</th>\n",
       "      <th>total_amt</th>\n",
       "      <th>Store_type</th>\n",
       "    </tr>\n",
       "  </thead>\n",
       "  <tbody>\n",
       "    <tr>\n",
       "      <th>0</th>\n",
       "      <td>8410316370</td>\n",
       "      <td>266783</td>\n",
       "      <td>20/02/13</td>\n",
       "      <td>4</td>\n",
       "      <td>1</td>\n",
       "      <td>1</td>\n",
       "      <td>869</td>\n",
       "      <td>91.245</td>\n",
       "      <td>960.245</td>\n",
       "      <td>e-Shop</td>\n",
       "    </tr>\n",
       "    <tr>\n",
       "      <th>1</th>\n",
       "      <td>16999552161</td>\n",
       "      <td>266783</td>\n",
       "      <td>09/02/13</td>\n",
       "      <td>10</td>\n",
       "      <td>5</td>\n",
       "      <td>2</td>\n",
       "      <td>835</td>\n",
       "      <td>175.350</td>\n",
       "      <td>1845.350</td>\n",
       "      <td>e-Shop</td>\n",
       "    </tr>\n",
       "    <tr>\n",
       "      <th>2</th>\n",
       "      <td>98477711300</td>\n",
       "      <td>266783</td>\n",
       "      <td>21/10/12</td>\n",
       "      <td>4</td>\n",
       "      <td>1</td>\n",
       "      <td>3</td>\n",
       "      <td>93</td>\n",
       "      <td>29.295</td>\n",
       "      <td>308.295</td>\n",
       "      <td>TeleShop</td>\n",
       "    </tr>\n",
       "    <tr>\n",
       "      <th>3</th>\n",
       "      <td>25890929042</td>\n",
       "      <td>266783</td>\n",
       "      <td>24/09/11</td>\n",
       "      <td>1</td>\n",
       "      <td>2</td>\n",
       "      <td>-4</td>\n",
       "      <td>-1321</td>\n",
       "      <td>554.820</td>\n",
       "      <td>-5838.820</td>\n",
       "      <td>e-Shop</td>\n",
       "    </tr>\n",
       "    <tr>\n",
       "      <th>4</th>\n",
       "      <td>25890929042</td>\n",
       "      <td>266783</td>\n",
       "      <td>23/09/11</td>\n",
       "      <td>1</td>\n",
       "      <td>2</td>\n",
       "      <td>4</td>\n",
       "      <td>1321</td>\n",
       "      <td>554.820</td>\n",
       "      <td>5838.820</td>\n",
       "      <td>e-Shop</td>\n",
       "    </tr>\n",
       "  </tbody>\n",
       "</table>\n",
       "</div>"
      ],
      "text/plain": [
       "   transaction_id  cust_id tran_date  prod_subcat_code  prod_cat_code  Qty  \\\n",
       "0      8410316370   266783  20/02/13                 4              1    1   \n",
       "1     16999552161   266783  09/02/13                10              5    2   \n",
       "2     98477711300   266783  21/10/12                 4              1    3   \n",
       "3     25890929042   266783  24/09/11                 1              2   -4   \n",
       "4     25890929042   266783  23/09/11                 1              2    4   \n",
       "\n",
       "   Rate      Tax  total_amt Store_type  \n",
       "0   869   91.245    960.245     e-Shop  \n",
       "1   835  175.350   1845.350     e-Shop  \n",
       "2    93   29.295    308.295   TeleShop  \n",
       "3 -1321  554.820  -5838.820     e-Shop  \n",
       "4  1321  554.820   5838.820     e-Shop  "
      ]
     },
     "execution_count": 9,
     "metadata": {},
     "output_type": "execute_result"
    }
   ],
   "source": [
    "trns.head()"
   ]
  },
  {
   "cell_type": "code",
   "execution_count": 10,
   "id": "18b01257",
   "metadata": {},
   "outputs": [
    {
     "data": {
      "text/plain": [
       "(23053, 10)"
      ]
     },
     "execution_count": 10,
     "metadata": {},
     "output_type": "execute_result"
    }
   ],
   "source": [
    "trns.shape"
   ]
  },
  {
   "cell_type": "code",
   "execution_count": null,
   "id": "eccc5e79",
   "metadata": {
    "scrolled": true
   },
   "outputs": [],
   "source": []
  },
  {
   "cell_type": "markdown",
   "id": "1c71ff2d",
   "metadata": {},
   "source": [
    "#1.Merge the datasets Customers, Product Hierarchy and Transactions as Customer_Final. Ensure to keep all customers who have done transactions with us and select the join type accordingly"
   ]
  },
  {
   "cell_type": "code",
   "execution_count": 11,
   "id": "fb543f43",
   "metadata": {},
   "outputs": [
    {
     "data": {
      "text/html": [
       "<div>\n",
       "<style scoped>\n",
       "    .dataframe tbody tr th:only-of-type {\n",
       "        vertical-align: middle;\n",
       "    }\n",
       "\n",
       "    .dataframe tbody tr th {\n",
       "        vertical-align: top;\n",
       "    }\n",
       "\n",
       "    .dataframe thead th {\n",
       "        text-align: right;\n",
       "    }\n",
       "</style>\n",
       "<table border=\"1\" class=\"dataframe\">\n",
       "  <thead>\n",
       "    <tr style=\"text-align: right;\">\n",
       "      <th></th>\n",
       "      <th>customer_Id</th>\n",
       "      <th>DOB</th>\n",
       "      <th>Gender</th>\n",
       "      <th>city_code</th>\n",
       "      <th>transaction_id</th>\n",
       "      <th>tran_date</th>\n",
       "      <th>Qty</th>\n",
       "      <th>Rate</th>\n",
       "      <th>Tax</th>\n",
       "      <th>total_amt</th>\n",
       "      <th>Store_type</th>\n",
       "      <th>prod_cat</th>\n",
       "      <th>prod_subcat</th>\n",
       "    </tr>\n",
       "  </thead>\n",
       "  <tbody>\n",
       "    <tr>\n",
       "      <th>0</th>\n",
       "      <td>268408</td>\n",
       "      <td>02-01-1970</td>\n",
       "      <td>M</td>\n",
       "      <td>4.0</td>\n",
       "      <td>87243835584</td>\n",
       "      <td>13/01/14</td>\n",
       "      <td>5</td>\n",
       "      <td>187</td>\n",
       "      <td>98.175</td>\n",
       "      <td>1033.175</td>\n",
       "      <td>TeleShop</td>\n",
       "      <td>Books</td>\n",
       "      <td>Fiction</td>\n",
       "    </tr>\n",
       "    <tr>\n",
       "      <th>1</th>\n",
       "      <td>275152</td>\n",
       "      <td>16-01-1970</td>\n",
       "      <td>M</td>\n",
       "      <td>4.0</td>\n",
       "      <td>73109425404</td>\n",
       "      <td>25/03/11</td>\n",
       "      <td>2</td>\n",
       "      <td>464</td>\n",
       "      <td>97.440</td>\n",
       "      <td>1025.440</td>\n",
       "      <td>e-Shop</td>\n",
       "      <td>Books</td>\n",
       "      <td>Fiction</td>\n",
       "    </tr>\n",
       "    <tr>\n",
       "      <th>2</th>\n",
       "      <td>275034</td>\n",
       "      <td>18-01-1970</td>\n",
       "      <td>F</td>\n",
       "      <td>4.0</td>\n",
       "      <td>64777271023</td>\n",
       "      <td>23/05/11</td>\n",
       "      <td>2</td>\n",
       "      <td>197</td>\n",
       "      <td>41.370</td>\n",
       "      <td>435.370</td>\n",
       "      <td>Flagship store</td>\n",
       "      <td>Books</td>\n",
       "      <td>Fiction</td>\n",
       "    </tr>\n",
       "    <tr>\n",
       "      <th>3</th>\n",
       "      <td>270829</td>\n",
       "      <td>22-01-1970</td>\n",
       "      <td>F</td>\n",
       "      <td>8.0</td>\n",
       "      <td>87174343938</td>\n",
       "      <td>09/12/13</td>\n",
       "      <td>4</td>\n",
       "      <td>1141</td>\n",
       "      <td>479.220</td>\n",
       "      <td>5043.220</td>\n",
       "      <td>e-Shop</td>\n",
       "      <td>Books</td>\n",
       "      <td>Fiction</td>\n",
       "    </tr>\n",
       "    <tr>\n",
       "      <th>4</th>\n",
       "      <td>267657</td>\n",
       "      <td>29-01-1970</td>\n",
       "      <td>F</td>\n",
       "      <td>7.0</td>\n",
       "      <td>76242744953</td>\n",
       "      <td>23/05/13</td>\n",
       "      <td>4</td>\n",
       "      <td>1020</td>\n",
       "      <td>428.400</td>\n",
       "      <td>4508.400</td>\n",
       "      <td>e-Shop</td>\n",
       "      <td>Books</td>\n",
       "      <td>Fiction</td>\n",
       "    </tr>\n",
       "  </tbody>\n",
       "</table>\n",
       "</div>"
      ],
      "text/plain": [
       "   customer_Id         DOB Gender  city_code  transaction_id tran_date  Qty  \\\n",
       "0       268408  02-01-1970      M        4.0     87243835584  13/01/14    5   \n",
       "1       275152  16-01-1970      M        4.0     73109425404  25/03/11    2   \n",
       "2       275034  18-01-1970      F        4.0     64777271023  23/05/11    2   \n",
       "3       270829  22-01-1970      F        8.0     87174343938  09/12/13    4   \n",
       "4       267657  29-01-1970      F        7.0     76242744953  23/05/13    4   \n",
       "\n",
       "   Rate      Tax  total_amt      Store_type prod_cat prod_subcat  \n",
       "0   187   98.175   1033.175        TeleShop    Books     Fiction  \n",
       "1   464   97.440   1025.440          e-Shop    Books     Fiction  \n",
       "2   197   41.370    435.370  Flagship store    Books     Fiction  \n",
       "3  1141  479.220   5043.220          e-Shop    Books     Fiction  \n",
       "4  1020  428.400   4508.400          e-Shop    Books     Fiction  "
      ]
     },
     "execution_count": 11,
     "metadata": {},
     "output_type": "execute_result"
    }
   ],
   "source": [
    "Customer_Final = pd.merge(customer,trns,how = 'inner',left_on = 'customer_Id',right_on = 'cust_id').merge(prodcat,how = 'inner',left_on = ['prod_cat_code','prod_subcat_code'], right_on = ['prod_cat_code','prod_sub_cat_code'])\n",
    "Customer_Final.drop(labels = ['cust_id','prod_cat_code','prod_subcat_code','prod_sub_cat_code'],axis = 1,inplace = True)\n",
    "\n",
    "Customer_Final.head()"
   ]
  },
  {
   "cell_type": "code",
   "execution_count": 12,
   "id": "dec561d1",
   "metadata": {},
   "outputs": [
    {
     "data": {
      "text/plain": [
       "(23053, 13)"
      ]
     },
     "execution_count": 12,
     "metadata": {},
     "output_type": "execute_result"
    }
   ],
   "source": [
    "Customer_Final.shape"
   ]
  },
  {
   "cell_type": "code",
   "execution_count": 13,
   "id": "d75d6092",
   "metadata": {},
   "outputs": [
    {
     "data": {
      "text/plain": [
       "customer_Id       0\n",
       "DOB               0\n",
       "Gender            9\n",
       "city_code         8\n",
       "transaction_id    0\n",
       "tran_date         0\n",
       "Qty               0\n",
       "Rate              0\n",
       "Tax               0\n",
       "total_amt         0\n",
       "Store_type        0\n",
       "prod_cat          0\n",
       "prod_subcat       0\n",
       "dtype: int64"
      ]
     },
     "execution_count": 13,
     "metadata": {},
     "output_type": "execute_result"
    }
   ],
   "source": [
    "Customer_Final.isnull().sum()"
   ]
  },
  {
   "cell_type": "code",
   "execution_count": 14,
   "id": "1a5e86f6",
   "metadata": {},
   "outputs": [
    {
     "data": {
      "text/plain": [
       "<bound method DataFrame.duplicated of        customer_Id         DOB Gender  city_code  transaction_id tran_date  \\\n",
       "0           268408  02-01-1970      M        4.0     87243835584  13/01/14   \n",
       "1           275152  16-01-1970      M        4.0     73109425404  25/03/11   \n",
       "2           275034  18-01-1970      F        4.0     64777271023  23/05/11   \n",
       "3           270829  22-01-1970      F        8.0     87174343938  09/12/13   \n",
       "4           267657  29-01-1970      F        7.0     76242744953  23/05/13   \n",
       "...            ...         ...    ...        ...             ...       ...   \n",
       "23048       267812  04-12-1992      F        1.0     63540378797  10/10/12   \n",
       "23049       274618  09-12-1992      F        7.0     71793203305  17/08/13   \n",
       "23050       268097  15-12-1992      F        7.0     91217108818  01/02/12   \n",
       "23051       268097  15-12-1992      F        7.0     90114483354  31/01/11   \n",
       "23052       268097  15-12-1992      F        7.0     90114483354  26/01/11   \n",
       "\n",
       "       Qty  Rate      Tax  total_amt      Store_type prod_cat  prod_subcat  \n",
       "0        5   187   98.175   1033.175        TeleShop    Books      Fiction  \n",
       "1        2   464   97.440   1025.440          e-Shop    Books      Fiction  \n",
       "2        2   197   41.370    435.370  Flagship store    Books      Fiction  \n",
       "3        4  1141  479.220   5043.220          e-Shop    Books      Fiction  \n",
       "4        4  1020  428.400   4508.400          e-Shop    Books      Fiction  \n",
       "...    ...   ...      ...        ...             ...      ...          ...  \n",
       "23048    3   224   70.560    742.560        TeleShop    Books  Non-Fiction  \n",
       "23049    4   691  290.220   3054.220  Flagship store    Books  Non-Fiction  \n",
       "23050    2   411   86.310    908.310          e-Shop    Books  Non-Fiction  \n",
       "23051   -4 -1408  591.360  -6223.360          e-Shop    Books  Non-Fiction  \n",
       "23052    4  1408  591.360   6223.360          e-Shop    Books  Non-Fiction  \n",
       "\n",
       "[23053 rows x 13 columns]>"
      ]
     },
     "execution_count": 14,
     "metadata": {},
     "output_type": "execute_result"
    }
   ],
   "source": [
    "Customer_Final.duplicated"
   ]
  },
  {
   "cell_type": "code",
   "execution_count": 15,
   "id": "74112fa1",
   "metadata": {},
   "outputs": [
    {
     "data": {
      "text/plain": [
       "customer_Id         int64\n",
       "DOB                object\n",
       "Gender             object\n",
       "city_code         float64\n",
       "transaction_id      int64\n",
       "tran_date          object\n",
       "Qty                 int64\n",
       "Rate                int64\n",
       "Tax               float64\n",
       "total_amt         float64\n",
       "Store_type         object\n",
       "prod_cat           object\n",
       "prod_subcat        object\n",
       "dtype: object"
      ]
     },
     "execution_count": 15,
     "metadata": {},
     "output_type": "execute_result"
    }
   ],
   "source": [
    "Customer_Final.dtypes"
   ]
  },
  {
   "cell_type": "code",
   "execution_count": 16,
   "id": "9cde42c1",
   "metadata": {},
   "outputs": [],
   "source": [
    "#Converting DOB and transaction date to date  time\n",
    "Customer_Final.DOB = pd.to_datetime(Customer_Final.DOB,format = '%d-%m-%Y')\n",
    "Customer_Final.tran_date = pd.to_datetime(Customer_Final.tran_date,format = '%d/%m/%y')"
   ]
  },
  {
   "cell_type": "code",
   "execution_count": 17,
   "id": "328da7bc",
   "metadata": {},
   "outputs": [],
   "source": [
    "#Converting city code to object and Rate and Quantity to float\n",
    "\n",
    "Customer_Final = Customer_Final.astype({'city_code':object,'Qty':float,'Rate':float})"
   ]
  },
  {
   "cell_type": "code",
   "execution_count": 18,
   "id": "af1b2abe",
   "metadata": {},
   "outputs": [
    {
     "data": {
      "text/plain": [
       "customer_Id                int64\n",
       "DOB               datetime64[ns]\n",
       "Gender                    object\n",
       "city_code                 object\n",
       "transaction_id             int64\n",
       "tran_date         datetime64[ns]\n",
       "Qty                      float64\n",
       "Rate                     float64\n",
       "Tax                      float64\n",
       "total_amt                float64\n",
       "Store_type                object\n",
       "prod_cat                  object\n",
       "prod_subcat               object\n",
       "dtype: object"
      ]
     },
     "execution_count": 18,
     "metadata": {},
     "output_type": "execute_result"
    }
   ],
   "source": [
    "Customer_Final.dtypes"
   ]
  },
  {
   "cell_type": "code",
   "execution_count": 19,
   "id": "830ac662",
   "metadata": {},
   "outputs": [],
   "source": [
    "#c. “Five-number summary” for continuous variables (min, Q1, median, Q3 and max)"
   ]
  },
  {
   "cell_type": "code",
   "execution_count": 20,
   "id": "5ac0dfef",
   "metadata": {},
   "outputs": [
    {
     "data": {
      "text/html": [
       "<div>\n",
       "<style scoped>\n",
       "    .dataframe tbody tr th:only-of-type {\n",
       "        vertical-align: middle;\n",
       "    }\n",
       "\n",
       "    .dataframe tbody tr th {\n",
       "        vertical-align: top;\n",
       "    }\n",
       "\n",
       "    .dataframe thead th {\n",
       "        text-align: right;\n",
       "    }\n",
       "</style>\n",
       "<table border=\"1\" class=\"dataframe\">\n",
       "  <thead>\n",
       "    <tr style=\"text-align: right;\">\n",
       "      <th></th>\n",
       "      <th>Qty</th>\n",
       "      <th>Rate</th>\n",
       "      <th>Tax</th>\n",
       "      <th>total_amt</th>\n",
       "    </tr>\n",
       "  </thead>\n",
       "  <tbody>\n",
       "    <tr>\n",
       "      <th>count</th>\n",
       "      <td>23053.000000</td>\n",
       "      <td>23053.000000</td>\n",
       "      <td>23053.000000</td>\n",
       "      <td>23053.000000</td>\n",
       "    </tr>\n",
       "    <tr>\n",
       "      <th>mean</th>\n",
       "      <td>2.432395</td>\n",
       "      <td>636.369713</td>\n",
       "      <td>248.667192</td>\n",
       "      <td>2107.308002</td>\n",
       "    </tr>\n",
       "    <tr>\n",
       "      <th>std</th>\n",
       "      <td>2.268406</td>\n",
       "      <td>622.363498</td>\n",
       "      <td>187.177773</td>\n",
       "      <td>2507.561264</td>\n",
       "    </tr>\n",
       "    <tr>\n",
       "      <th>min</th>\n",
       "      <td>-5.000000</td>\n",
       "      <td>-1499.000000</td>\n",
       "      <td>7.350000</td>\n",
       "      <td>-8270.925000</td>\n",
       "    </tr>\n",
       "    <tr>\n",
       "      <th>25%</th>\n",
       "      <td>1.000000</td>\n",
       "      <td>312.000000</td>\n",
       "      <td>98.280000</td>\n",
       "      <td>762.450000</td>\n",
       "    </tr>\n",
       "    <tr>\n",
       "      <th>50%</th>\n",
       "      <td>3.000000</td>\n",
       "      <td>710.000000</td>\n",
       "      <td>199.080000</td>\n",
       "      <td>1754.740000</td>\n",
       "    </tr>\n",
       "    <tr>\n",
       "      <th>75%</th>\n",
       "      <td>4.000000</td>\n",
       "      <td>1109.000000</td>\n",
       "      <td>365.715000</td>\n",
       "      <td>3569.150000</td>\n",
       "    </tr>\n",
       "    <tr>\n",
       "      <th>max</th>\n",
       "      <td>5.000000</td>\n",
       "      <td>1500.000000</td>\n",
       "      <td>787.500000</td>\n",
       "      <td>8287.500000</td>\n",
       "    </tr>\n",
       "  </tbody>\n",
       "</table>\n",
       "</div>"
      ],
      "text/plain": [
       "                Qty          Rate           Tax     total_amt\n",
       "count  23053.000000  23053.000000  23053.000000  23053.000000\n",
       "mean       2.432395    636.369713    248.667192   2107.308002\n",
       "std        2.268406    622.363498    187.177773   2507.561264\n",
       "min       -5.000000  -1499.000000      7.350000  -8270.925000\n",
       "25%        1.000000    312.000000     98.280000    762.450000\n",
       "50%        3.000000    710.000000    199.080000   1754.740000\n",
       "75%        4.000000   1109.000000    365.715000   3569.150000\n",
       "max        5.000000   1500.000000    787.500000   8287.500000"
      ]
     },
     "execution_count": 20,
     "metadata": {},
     "output_type": "execute_result"
    }
   ],
   "source": [
    "Customer_Final.loc[:,Customer_Final.dtypes == 'float'].describe()"
   ]
  },
  {
   "cell_type": "raw",
   "id": "b1fa780c",
   "metadata": {},
   "source": [
    "#d. Frequency tables for all the categorical variables"
   ]
  },
  {
   "cell_type": "code",
   "execution_count": 21,
   "id": "dc5b74c1",
   "metadata": {},
   "outputs": [
    {
     "data": {
      "text/html": [
       "<div>\n",
       "<style scoped>\n",
       "    .dataframe tbody tr th:only-of-type {\n",
       "        vertical-align: middle;\n",
       "    }\n",
       "\n",
       "    .dataframe tbody tr th {\n",
       "        vertical-align: top;\n",
       "    }\n",
       "\n",
       "    .dataframe thead th {\n",
       "        text-align: right;\n",
       "    }\n",
       "</style>\n",
       "<table border=\"1\" class=\"dataframe\">\n",
       "  <thead>\n",
       "    <tr style=\"text-align: right;\">\n",
       "      <th></th>\n",
       "      <th>Gender</th>\n",
       "      <th>city_code</th>\n",
       "      <th>Store_type</th>\n",
       "      <th>prod_cat</th>\n",
       "      <th>prod_subcat</th>\n",
       "    </tr>\n",
       "  </thead>\n",
       "  <tbody>\n",
       "    <tr>\n",
       "      <th>count</th>\n",
       "      <td>23044</td>\n",
       "      <td>23045.0</td>\n",
       "      <td>23053</td>\n",
       "      <td>23053</td>\n",
       "      <td>23053</td>\n",
       "    </tr>\n",
       "    <tr>\n",
       "      <th>unique</th>\n",
       "      <td>2</td>\n",
       "      <td>10.0</td>\n",
       "      <td>4</td>\n",
       "      <td>6</td>\n",
       "      <td>18</td>\n",
       "    </tr>\n",
       "    <tr>\n",
       "      <th>top</th>\n",
       "      <td>M</td>\n",
       "      <td>4.0</td>\n",
       "      <td>e-Shop</td>\n",
       "      <td>Books</td>\n",
       "      <td>Women</td>\n",
       "    </tr>\n",
       "    <tr>\n",
       "      <th>freq</th>\n",
       "      <td>11811</td>\n",
       "      <td>2422.0</td>\n",
       "      <td>9311</td>\n",
       "      <td>6069</td>\n",
       "      <td>3048</td>\n",
       "    </tr>\n",
       "  </tbody>\n",
       "</table>\n",
       "</div>"
      ],
      "text/plain": [
       "       Gender  city_code Store_type prod_cat prod_subcat\n",
       "count   23044    23045.0      23053    23053       23053\n",
       "unique      2       10.0          4        6          18\n",
       "top         M        4.0     e-Shop    Books       Women\n",
       "freq    11811     2422.0       9311     6069        3048"
      ]
     },
     "execution_count": 21,
     "metadata": {},
     "output_type": "execute_result"
    }
   ],
   "source": [
    "Customer_Final.loc[:,Customer_Final.dtypes == 'object'].describe()"
   ]
  },
  {
   "cell_type": "code",
   "execution_count": 22,
   "id": "5997c445",
   "metadata": {},
   "outputs": [],
   "source": [
    "import matplotlib.pyplot as plt\n",
    "import seaborn as sns\n",
    "\n",
    "# set the graphs to show in the jupyter notebook\n",
    "%matplotlib inline\n"
   ]
  },
  {
   "cell_type": "code",
   "execution_count": 23,
   "id": "2bc16d8d",
   "metadata": {},
   "outputs": [
    {
     "data": {
      "image/png": "[encoded data removed]",
      "text/plain": [
       "<Figure size 432x288 with 1 Axes>"
      ]
     },
     "metadata": {
      "needs_background": "light"
     },
     "output_type": "display_data"
    },
    {
     "data": {
      "image/png": "[encoded data removed]",
      "text/plain": [
       "<Figure size 432x288 with 1 Axes>"
      ]
     },
     "metadata": {
      "needs_background": "light"
     },
     "output_type": "display_data"
    },
    {
     "data": {
      "image/png": "[encoded data removed]",
      "text/plain": [
       "<Figure size 432x288 with 1 Axes>"
      ]
     },
     "metadata": {
      "needs_background": "light"
     },
     "output_type": "display_data"
    },
    {
     "data": {
      "image/png": "[encoded data removed]",
      "text/plain": [
       "<Figure size 432x288 with 1 Axes>"
      ]
     },
     "metadata": {
      "needs_background": "light"
     },
     "output_type": "display_data"
    }
   ],
   "source": [
    "continuos = Customer_Final.loc[:,Customer_Final.dtypes == 'float']\n",
    "for i in continuos.columns:\n",
    "    continuos[i].plot(kind = 'hist')\n",
    "    plt.title(i)\n",
    "    plt.show()\n"
   ]
  },
  {
   "cell_type": "raw",
   "id": "ec763b1a",
   "metadata": {},
   "source": [
    "\n",
    "3. Generate histograms for all continuous variables and frequency bars for categorical variables."
   ]
  },
  {
   "cell_type": "code",
   "execution_count": 24,
   "id": "79dcd858",
   "metadata": {},
   "outputs": [
    {
     "data": {
      "image/png": "[encoded data removed]",
      "text/plain": [
       "<Figure size 1368x720 with 1 Axes>"
      ]
     },
     "metadata": {
      "needs_background": "light"
     },
     "output_type": "display_data"
    },
    {
     "data": {
      "image/png": "[encoded data removed]",
      "text/plain": [
       "<Figure size 1368x720 with 1 Axes>"
      ]
     },
     "metadata": {
      "needs_background": "light"
     },
     "output_type": "display_data"
    },
    {
     "data": {
      "image/png": "[encoded data removed]",
      "text/plain": [
       "<Figure size 1368x720 with 1 Axes>"
      ]
     },
     "metadata": {
      "needs_background": "light"
     },
     "output_type": "display_data"
    },
    {
     "data": {
      "image/png": "[encoded data removed]",
      "text/plain": [
       "<Figure size 1368x720 with 1 Axes>"
      ]
     },
     "metadata": {
      "needs_background": "light"
     },
     "output_type": "display_data"
    },
    {
     "data": {
      "image/png": "[encoded data removed]",
      "text/plain": [
       "<Figure size 1368x720 with 1 Axes>"
      ]
     },
     "metadata": {
      "needs_background": "light"
     },
     "output_type": "display_data"
    }
   ],
   "source": [
    "category = Customer_Final.loc[:,Customer_Final.dtypes == 'object']\n",
    "\n",
    "for i in category.columns :\n",
    "    sns.catplot(x = i,kind=\"count\",height=10,aspect =1.9, palette=\"ch:.26\", data=category,orient = \"v\" )\n",
    "    plt.title(i)\n",
    "    plt.show()\n"
   ]
  },
  {
   "cell_type": "code",
   "execution_count": 25,
   "id": "bbe8c57b",
   "metadata": {},
   "outputs": [
    {
     "data": {
      "image/png": "[encoded data removed]",
      "text/plain": [
       "<Figure size 432x288 with 1 Axes>"
      ]
     },
     "metadata": {
      "needs_background": "light"
     },
     "output_type": "display_data"
    },
    {
     "data": {
      "image/png": "[encoded data removed]",
      "text/plain": [
       "<Figure size 432x288 with 1 Axes>"
      ]
     },
     "metadata": {
      "needs_background": "light"
     },
     "output_type": "display_data"
    },
    {
     "data": {
      "image/png": "[encoded data removed]",
      "text/plain": [
       "<Figure size 432x288 with 1 Axes>"
      ]
     },
     "metadata": {
      "needs_background": "light"
     },
     "output_type": "display_data"
    },
    {
     "data": {
      "image/png": "[encoded data removed]",
      "text/plain": [
       "<Figure size 432x288 with 1 Axes>"
      ]
     },
     "metadata": {
      "needs_background": "light"
     },
     "output_type": "display_data"
    },
    {
     "data": {
      "image/png": "[encoded data removed]",
      "text/plain": [
       "<Figure size 432x288 with 1 Axes>"
      ]
     },
     "metadata": {
      "needs_background": "light"
     },
     "output_type": "display_data"
    }
   ],
   "source": [
    "category = Customer_Final.loc[:,Customer_Final.dtypes == 'object']\n",
    "\n",
    "for i in category.columns :\n",
    "    category[i].value_counts().plot(kind='bar')\n",
    "    plt.title(i)\n",
    "    plt.show()"
   ]
  },
  {
   "cell_type": "raw",
   "id": "44264332",
   "metadata": {},
   "source": [
    "4. Calculate the following information using the merged dataset :\n",
    "a. Time period of the available transaction data\n",
    "b. Count of transactions where the total amount of transaction was negative"
   ]
  },
  {
   "cell_type": "code",
   "execution_count": 26,
   "id": "ecb26a95",
   "metadata": {},
   "outputs": [
    {
     "data": {
      "text/plain": [
       "'1130 days 00:00:00'"
      ]
     },
     "execution_count": 26,
     "metadata": {},
     "output_type": "execute_result"
    }
   ],
   "source": [
    "str(Customer_Final.tran_date.max()-Customer_Final.tran_date.min())"
   ]
  },
  {
   "cell_type": "code",
   "execution_count": 27,
   "id": "6c089f8c",
   "metadata": {},
   "outputs": [
    {
     "data": {
      "text/html": [
       "<div>\n",
       "<style scoped>\n",
       "    .dataframe tbody tr th:only-of-type {\n",
       "        vertical-align: middle;\n",
       "    }\n",
       "\n",
       "    .dataframe tbody tr th {\n",
       "        vertical-align: top;\n",
       "    }\n",
       "\n",
       "    .dataframe thead th {\n",
       "        text-align: right;\n",
       "    }\n",
       "</style>\n",
       "<table border=\"1\" class=\"dataframe\">\n",
       "  <thead>\n",
       "    <tr style=\"text-align: right;\">\n",
       "      <th></th>\n",
       "      <th>customer_Id</th>\n",
       "      <th>DOB</th>\n",
       "      <th>Gender</th>\n",
       "      <th>city_code</th>\n",
       "      <th>transaction_id</th>\n",
       "      <th>tran_date</th>\n",
       "      <th>Qty</th>\n",
       "      <th>Rate</th>\n",
       "      <th>Tax</th>\n",
       "      <th>total_amt</th>\n",
       "      <th>Store_type</th>\n",
       "      <th>prod_cat</th>\n",
       "      <th>prod_subcat</th>\n",
       "    </tr>\n",
       "  </thead>\n",
       "  <tbody>\n",
       "    <tr>\n",
       "      <th>0</th>\n",
       "      <td>268408</td>\n",
       "      <td>1970-01-02</td>\n",
       "      <td>M</td>\n",
       "      <td>4.0</td>\n",
       "      <td>87243835584</td>\n",
       "      <td>2014-01-13</td>\n",
       "      <td>5.0</td>\n",
       "      <td>187.0</td>\n",
       "      <td>98.175</td>\n",
       "      <td>1033.175</td>\n",
       "      <td>TeleShop</td>\n",
       "      <td>Books</td>\n",
       "      <td>Fiction</td>\n",
       "    </tr>\n",
       "    <tr>\n",
       "      <th>1</th>\n",
       "      <td>275152</td>\n",
       "      <td>1970-01-16</td>\n",
       "      <td>M</td>\n",
       "      <td>4.0</td>\n",
       "      <td>73109425404</td>\n",
       "      <td>2011-03-25</td>\n",
       "      <td>2.0</td>\n",
       "      <td>464.0</td>\n",
       "      <td>97.440</td>\n",
       "      <td>1025.440</td>\n",
       "      <td>e-Shop</td>\n",
       "      <td>Books</td>\n",
       "      <td>Fiction</td>\n",
       "    </tr>\n",
       "    <tr>\n",
       "      <th>2</th>\n",
       "      <td>275034</td>\n",
       "      <td>1970-01-18</td>\n",
       "      <td>F</td>\n",
       "      <td>4.0</td>\n",
       "      <td>64777271023</td>\n",
       "      <td>2011-05-23</td>\n",
       "      <td>2.0</td>\n",
       "      <td>197.0</td>\n",
       "      <td>41.370</td>\n",
       "      <td>435.370</td>\n",
       "      <td>Flagship store</td>\n",
       "      <td>Books</td>\n",
       "      <td>Fiction</td>\n",
       "    </tr>\n",
       "    <tr>\n",
       "      <th>3</th>\n",
       "      <td>270829</td>\n",
       "      <td>1970-01-22</td>\n",
       "      <td>F</td>\n",
       "      <td>8.0</td>\n",
       "      <td>87174343938</td>\n",
       "      <td>2013-12-09</td>\n",
       "      <td>4.0</td>\n",
       "      <td>1141.0</td>\n",
       "      <td>479.220</td>\n",
       "      <td>5043.220</td>\n",
       "      <td>e-Shop</td>\n",
       "      <td>Books</td>\n",
       "      <td>Fiction</td>\n",
       "    </tr>\n",
       "    <tr>\n",
       "      <th>4</th>\n",
       "      <td>267657</td>\n",
       "      <td>1970-01-29</td>\n",
       "      <td>F</td>\n",
       "      <td>7.0</td>\n",
       "      <td>76242744953</td>\n",
       "      <td>2013-05-23</td>\n",
       "      <td>4.0</td>\n",
       "      <td>1020.0</td>\n",
       "      <td>428.400</td>\n",
       "      <td>4508.400</td>\n",
       "      <td>e-Shop</td>\n",
       "      <td>Books</td>\n",
       "      <td>Fiction</td>\n",
       "    </tr>\n",
       "  </tbody>\n",
       "</table>\n",
       "</div>"
      ],
      "text/plain": [
       "   customer_Id        DOB Gender city_code  transaction_id  tran_date  Qty  \\\n",
       "0       268408 1970-01-02      M       4.0     87243835584 2014-01-13  5.0   \n",
       "1       275152 1970-01-16      M       4.0     73109425404 2011-03-25  2.0   \n",
       "2       275034 1970-01-18      F       4.0     64777271023 2011-05-23  2.0   \n",
       "3       270829 1970-01-22      F       8.0     87174343938 2013-12-09  4.0   \n",
       "4       267657 1970-01-29      F       7.0     76242744953 2013-05-23  4.0   \n",
       "\n",
       "     Rate      Tax  total_amt      Store_type prod_cat prod_subcat  \n",
       "0   187.0   98.175   1033.175        TeleShop    Books     Fiction  \n",
       "1   464.0   97.440   1025.440          e-Shop    Books     Fiction  \n",
       "2   197.0   41.370    435.370  Flagship store    Books     Fiction  \n",
       "3  1141.0  479.220   5043.220          e-Shop    Books     Fiction  \n",
       "4  1020.0  428.400   4508.400          e-Shop    Books     Fiction  "
      ]
     },
     "execution_count": 27,
     "metadata": {},
     "output_type": "execute_result"
    }
   ],
   "source": [
    "Customer_Final.head()"
   ]
  },
  {
   "cell_type": "code",
   "execution_count": 28,
   "id": "8b2947ca",
   "metadata": {},
   "outputs": [
    {
     "data": {
      "text/html": [
       "<div>\n",
       "<style scoped>\n",
       "    .dataframe tbody tr th:only-of-type {\n",
       "        vertical-align: middle;\n",
       "    }\n",
       "\n",
       "    .dataframe tbody tr th {\n",
       "        vertical-align: top;\n",
       "    }\n",
       "\n",
       "    .dataframe thead th {\n",
       "        text-align: right;\n",
       "    }\n",
       "</style>\n",
       "<table border=\"1\" class=\"dataframe\">\n",
       "  <thead>\n",
       "    <tr style=\"text-align: right;\">\n",
       "      <th></th>\n",
       "      <th>customer_Id</th>\n",
       "      <th>DOB</th>\n",
       "      <th>Gender</th>\n",
       "      <th>city_code</th>\n",
       "      <th>transaction_id</th>\n",
       "      <th>tran_date</th>\n",
       "      <th>Qty</th>\n",
       "      <th>Rate</th>\n",
       "      <th>Tax</th>\n",
       "      <th>total_amt</th>\n",
       "      <th>Store_type</th>\n",
       "      <th>prod_cat</th>\n",
       "      <th>prod_subcat</th>\n",
       "    </tr>\n",
       "  </thead>\n",
       "  <tbody>\n",
       "    <tr>\n",
       "      <th>0</th>\n",
       "      <td>268408</td>\n",
       "      <td>1970-01-02</td>\n",
       "      <td>M</td>\n",
       "      <td>4.0</td>\n",
       "      <td>87243835584</td>\n",
       "      <td>2014-01-13</td>\n",
       "      <td>5.0</td>\n",
       "      <td>187.0</td>\n",
       "      <td>98.175</td>\n",
       "      <td>1033.175</td>\n",
       "      <td>TeleShop</td>\n",
       "      <td>Books</td>\n",
       "      <td>Fiction</td>\n",
       "    </tr>\n",
       "    <tr>\n",
       "      <th>1</th>\n",
       "      <td>275152</td>\n",
       "      <td>1970-01-16</td>\n",
       "      <td>M</td>\n",
       "      <td>4.0</td>\n",
       "      <td>73109425404</td>\n",
       "      <td>2011-03-25</td>\n",
       "      <td>2.0</td>\n",
       "      <td>464.0</td>\n",
       "      <td>97.440</td>\n",
       "      <td>1025.440</td>\n",
       "      <td>e-Shop</td>\n",
       "      <td>Books</td>\n",
       "      <td>Fiction</td>\n",
       "    </tr>\n",
       "    <tr>\n",
       "      <th>2</th>\n",
       "      <td>275034</td>\n",
       "      <td>1970-01-18</td>\n",
       "      <td>F</td>\n",
       "      <td>4.0</td>\n",
       "      <td>64777271023</td>\n",
       "      <td>2011-05-23</td>\n",
       "      <td>2.0</td>\n",
       "      <td>197.0</td>\n",
       "      <td>41.370</td>\n",
       "      <td>435.370</td>\n",
       "      <td>Flagship store</td>\n",
       "      <td>Books</td>\n",
       "      <td>Fiction</td>\n",
       "    </tr>\n",
       "    <tr>\n",
       "      <th>3</th>\n",
       "      <td>270829</td>\n",
       "      <td>1970-01-22</td>\n",
       "      <td>F</td>\n",
       "      <td>8.0</td>\n",
       "      <td>87174343938</td>\n",
       "      <td>2013-12-09</td>\n",
       "      <td>4.0</td>\n",
       "      <td>1141.0</td>\n",
       "      <td>479.220</td>\n",
       "      <td>5043.220</td>\n",
       "      <td>e-Shop</td>\n",
       "      <td>Books</td>\n",
       "      <td>Fiction</td>\n",
       "    </tr>\n",
       "    <tr>\n",
       "      <th>4</th>\n",
       "      <td>267657</td>\n",
       "      <td>1970-01-29</td>\n",
       "      <td>F</td>\n",
       "      <td>7.0</td>\n",
       "      <td>76242744953</td>\n",
       "      <td>2013-05-23</td>\n",
       "      <td>4.0</td>\n",
       "      <td>1020.0</td>\n",
       "      <td>428.400</td>\n",
       "      <td>4508.400</td>\n",
       "      <td>e-Shop</td>\n",
       "      <td>Books</td>\n",
       "      <td>Fiction</td>\n",
       "    </tr>\n",
       "    <tr>\n",
       "      <th>...</th>\n",
       "      <td>...</td>\n",
       "      <td>...</td>\n",
       "      <td>...</td>\n",
       "      <td>...</td>\n",
       "      <td>...</td>\n",
       "      <td>...</td>\n",
       "      <td>...</td>\n",
       "      <td>...</td>\n",
       "      <td>...</td>\n",
       "      <td>...</td>\n",
       "      <td>...</td>\n",
       "      <td>...</td>\n",
       "      <td>...</td>\n",
       "    </tr>\n",
       "    <tr>\n",
       "      <th>23048</th>\n",
       "      <td>267812</td>\n",
       "      <td>1992-12-04</td>\n",
       "      <td>F</td>\n",
       "      <td>1.0</td>\n",
       "      <td>63540378797</td>\n",
       "      <td>2012-10-10</td>\n",
       "      <td>3.0</td>\n",
       "      <td>224.0</td>\n",
       "      <td>70.560</td>\n",
       "      <td>742.560</td>\n",
       "      <td>TeleShop</td>\n",
       "      <td>Books</td>\n",
       "      <td>Non-Fiction</td>\n",
       "    </tr>\n",
       "    <tr>\n",
       "      <th>23049</th>\n",
       "      <td>274618</td>\n",
       "      <td>1992-12-09</td>\n",
       "      <td>F</td>\n",
       "      <td>7.0</td>\n",
       "      <td>71793203305</td>\n",
       "      <td>2013-08-17</td>\n",
       "      <td>4.0</td>\n",
       "      <td>691.0</td>\n",
       "      <td>290.220</td>\n",
       "      <td>3054.220</td>\n",
       "      <td>Flagship store</td>\n",
       "      <td>Books</td>\n",
       "      <td>Non-Fiction</td>\n",
       "    </tr>\n",
       "    <tr>\n",
       "      <th>23050</th>\n",
       "      <td>268097</td>\n",
       "      <td>1992-12-15</td>\n",
       "      <td>F</td>\n",
       "      <td>7.0</td>\n",
       "      <td>91217108818</td>\n",
       "      <td>2012-02-01</td>\n",
       "      <td>2.0</td>\n",
       "      <td>411.0</td>\n",
       "      <td>86.310</td>\n",
       "      <td>908.310</td>\n",
       "      <td>e-Shop</td>\n",
       "      <td>Books</td>\n",
       "      <td>Non-Fiction</td>\n",
       "    </tr>\n",
       "    <tr>\n",
       "      <th>23051</th>\n",
       "      <td>268097</td>\n",
       "      <td>1992-12-15</td>\n",
       "      <td>F</td>\n",
       "      <td>7.0</td>\n",
       "      <td>90114483354</td>\n",
       "      <td>2011-01-31</td>\n",
       "      <td>-4.0</td>\n",
       "      <td>-1408.0</td>\n",
       "      <td>591.360</td>\n",
       "      <td>-6223.360</td>\n",
       "      <td>e-Shop</td>\n",
       "      <td>Books</td>\n",
       "      <td>Non-Fiction</td>\n",
       "    </tr>\n",
       "    <tr>\n",
       "      <th>23052</th>\n",
       "      <td>268097</td>\n",
       "      <td>1992-12-15</td>\n",
       "      <td>F</td>\n",
       "      <td>7.0</td>\n",
       "      <td>90114483354</td>\n",
       "      <td>2011-01-26</td>\n",
       "      <td>4.0</td>\n",
       "      <td>1408.0</td>\n",
       "      <td>591.360</td>\n",
       "      <td>6223.360</td>\n",
       "      <td>e-Shop</td>\n",
       "      <td>Books</td>\n",
       "      <td>Non-Fiction</td>\n",
       "    </tr>\n",
       "  </tbody>\n",
       "</table>\n",
       "<p>23053 rows × 13 columns</p>\n",
       "</div>"
      ],
      "text/plain": [
       "       customer_Id        DOB Gender city_code  transaction_id  tran_date  \\\n",
       "0           268408 1970-01-02      M       4.0     87243835584 2014-01-13   \n",
       "1           275152 1970-01-16      M       4.0     73109425404 2011-03-25   \n",
       "2           275034 1970-01-18      F       4.0     64777271023 2011-05-23   \n",
       "3           270829 1970-01-22      F       8.0     87174343938 2013-12-09   \n",
       "4           267657 1970-01-29      F       7.0     76242744953 2013-05-23   \n",
       "...            ...        ...    ...       ...             ...        ...   \n",
       "23048       267812 1992-12-04      F       1.0     63540378797 2012-10-10   \n",
       "23049       274618 1992-12-09      F       7.0     71793203305 2013-08-17   \n",
       "23050       268097 1992-12-15      F       7.0     91217108818 2012-02-01   \n",
       "23051       268097 1992-12-15      F       7.0     90114483354 2011-01-31   \n",
       "23052       268097 1992-12-15      F       7.0     90114483354 2011-01-26   \n",
       "\n",
       "       Qty    Rate      Tax  total_amt      Store_type prod_cat  prod_subcat  \n",
       "0      5.0   187.0   98.175   1033.175        TeleShop    Books      Fiction  \n",
       "1      2.0   464.0   97.440   1025.440          e-Shop    Books      Fiction  \n",
       "2      2.0   197.0   41.370    435.370  Flagship store    Books      Fiction  \n",
       "3      4.0  1141.0  479.220   5043.220          e-Shop    Books      Fiction  \n",
       "4      4.0  1020.0  428.400   4508.400          e-Shop    Books      Fiction  \n",
       "...    ...     ...      ...        ...             ...      ...          ...  \n",
       "23048  3.0   224.0   70.560    742.560        TeleShop    Books  Non-Fiction  \n",
       "23049  4.0   691.0  290.220   3054.220  Flagship store    Books  Non-Fiction  \n",
       "23050  2.0   411.0   86.310    908.310          e-Shop    Books  Non-Fiction  \n",
       "23051 -4.0 -1408.0  591.360  -6223.360          e-Shop    Books  Non-Fiction  \n",
       "23052  4.0  1408.0  591.360   6223.360          e-Shop    Books  Non-Fiction  \n",
       "\n",
       "[23053 rows x 13 columns]"
      ]
     },
     "execution_count": 28,
     "metadata": {},
     "output_type": "execute_result"
    }
   ],
   "source": [
    "Customer_Final"
   ]
  },
  {
   "cell_type": "code",
   "execution_count": 29,
   "id": "cb521d55",
   "metadata": {},
   "outputs": [
    {
     "data": {
      "text/html": [
       "<div>\n",
       "<style scoped>\n",
       "    .dataframe tbody tr th:only-of-type {\n",
       "        vertical-align: middle;\n",
       "    }\n",
       "\n",
       "    .dataframe tbody tr th {\n",
       "        vertical-align: top;\n",
       "    }\n",
       "\n",
       "    .dataframe thead th {\n",
       "        text-align: right;\n",
       "    }\n",
       "</style>\n",
       "<table border=\"1\" class=\"dataframe\">\n",
       "  <thead>\n",
       "    <tr style=\"text-align: right;\">\n",
       "      <th></th>\n",
       "      <th>Gender</th>\n",
       "      <th>prod_cat</th>\n",
       "      <th>total_amt</th>\n",
       "    </tr>\n",
       "  </thead>\n",
       "  <tbody>\n",
       "    <tr>\n",
       "      <th>1</th>\n",
       "      <td>F</td>\n",
       "      <td>Books</td>\n",
       "      <td>6164692.235</td>\n",
       "    </tr>\n",
       "    <tr>\n",
       "      <th>3</th>\n",
       "      <td>F</td>\n",
       "      <td>Electronics</td>\n",
       "      <td>5019354.210</td>\n",
       "    </tr>\n",
       "    <tr>\n",
       "      <th>5</th>\n",
       "      <td>F</td>\n",
       "      <td>Home and kitchen</td>\n",
       "      <td>4132177.335</td>\n",
       "    </tr>\n",
       "    <tr>\n",
       "      <th>4</th>\n",
       "      <td>F</td>\n",
       "      <td>Footwear</td>\n",
       "      <td>3202552.990</td>\n",
       "    </tr>\n",
       "    <tr>\n",
       "      <th>2</th>\n",
       "      <td>F</td>\n",
       "      <td>Clothing</td>\n",
       "      <td>3026750.805</td>\n",
       "    </tr>\n",
       "    <tr>\n",
       "      <th>0</th>\n",
       "      <td>F</td>\n",
       "      <td>Bags</td>\n",
       "      <td>2077985.650</td>\n",
       "    </tr>\n",
       "    <tr>\n",
       "      <th>7</th>\n",
       "      <td>M</td>\n",
       "      <td>Books</td>\n",
       "      <td>6645972.775</td>\n",
       "    </tr>\n",
       "    <tr>\n",
       "      <th>9</th>\n",
       "      <td>M</td>\n",
       "      <td>Electronics</td>\n",
       "      <td>5703109.425</td>\n",
       "    </tr>\n",
       "    <tr>\n",
       "      <th>11</th>\n",
       "      <td>M</td>\n",
       "      <td>Home and kitchen</td>\n",
       "      <td>4301075.480</td>\n",
       "    </tr>\n",
       "    <tr>\n",
       "      <th>8</th>\n",
       "      <td>M</td>\n",
       "      <td>Clothing</td>\n",
       "      <td>3224079.495</td>\n",
       "    </tr>\n",
       "    <tr>\n",
       "      <th>10</th>\n",
       "      <td>M</td>\n",
       "      <td>Footwear</td>\n",
       "      <td>3014672.050</td>\n",
       "    </tr>\n",
       "    <tr>\n",
       "      <th>6</th>\n",
       "      <td>M</td>\n",
       "      <td>Bags</td>\n",
       "      <td>2046722.990</td>\n",
       "    </tr>\n",
       "  </tbody>\n",
       "</table>\n",
       "</div>"
      ],
      "text/plain": [
       "   Gender          prod_cat    total_amt\n",
       "1       F             Books  6164692.235\n",
       "3       F       Electronics  5019354.210\n",
       "5       F  Home and kitchen  4132177.335\n",
       "4       F          Footwear  3202552.990\n",
       "2       F          Clothing  3026750.805\n",
       "0       F              Bags  2077985.650\n",
       "7       M             Books  6645972.775\n",
       "9       M       Electronics  5703109.425\n",
       "11      M  Home and kitchen  4301075.480\n",
       "8       M          Clothing  3224079.495\n",
       "10      M          Footwear  3014672.050\n",
       "6       M              Bags  2046722.990"
      ]
     },
     "execution_count": 29,
     "metadata": {},
     "output_type": "execute_result"
    }
   ],
   "source": [
    "#5.Analyze which product categories are more popular among females vs male customers.\n",
    "\n",
    "#Popular products based on total_amt\n",
    "\n",
    "pd.pivot_table(data = Customer_Final, index= ['Gender','prod_cat'],values= 'total_amt', aggfunc = 'sum').reset_index().sort_values(by=['Gender','total_amt'],ascending = [True,False])\n"
   ]
  },
  {
   "cell_type": "code",
   "execution_count": 30,
   "id": "fcec26e3",
   "metadata": {},
   "outputs": [
    {
     "data": {
      "text/html": [
       "<div>\n",
       "<style scoped>\n",
       "    .dataframe tbody tr th:only-of-type {\n",
       "        vertical-align: middle;\n",
       "    }\n",
       "\n",
       "    .dataframe tbody tr th {\n",
       "        vertical-align: top;\n",
       "    }\n",
       "\n",
       "    .dataframe thead th {\n",
       "        text-align: right;\n",
       "    }\n",
       "</style>\n",
       "<table border=\"1\" class=\"dataframe\">\n",
       "  <thead>\n",
       "    <tr style=\"text-align: right;\">\n",
       "      <th></th>\n",
       "      <th>Gender</th>\n",
       "      <th>prod_cat</th>\n",
       "      <th>Qty</th>\n",
       "    </tr>\n",
       "  </thead>\n",
       "  <tbody>\n",
       "    <tr>\n",
       "      <th>1</th>\n",
       "      <td>F</td>\n",
       "      <td>Books</td>\n",
       "      <td>7070.0</td>\n",
       "    </tr>\n",
       "    <tr>\n",
       "      <th>3</th>\n",
       "      <td>F</td>\n",
       "      <td>Electronics</td>\n",
       "      <td>5832.0</td>\n",
       "    </tr>\n",
       "    <tr>\n",
       "      <th>5</th>\n",
       "      <td>F</td>\n",
       "      <td>Home and kitchen</td>\n",
       "      <td>4895.0</td>\n",
       "    </tr>\n",
       "    <tr>\n",
       "      <th>4</th>\n",
       "      <td>F</td>\n",
       "      <td>Footwear</td>\n",
       "      <td>3716.0</td>\n",
       "    </tr>\n",
       "    <tr>\n",
       "      <th>2</th>\n",
       "      <td>F</td>\n",
       "      <td>Clothing</td>\n",
       "      <td>3425.0</td>\n",
       "    </tr>\n",
       "    <tr>\n",
       "      <th>0</th>\n",
       "      <td>F</td>\n",
       "      <td>Bags</td>\n",
       "      <td>2362.0</td>\n",
       "    </tr>\n",
       "    <tr>\n",
       "      <th>7</th>\n",
       "      <td>M</td>\n",
       "      <td>Books</td>\n",
       "      <td>7587.0</td>\n",
       "    </tr>\n",
       "    <tr>\n",
       "      <th>9</th>\n",
       "      <td>M</td>\n",
       "      <td>Electronics</td>\n",
       "      <td>6476.0</td>\n",
       "    </tr>\n",
       "    <tr>\n",
       "      <th>11</th>\n",
       "      <td>M</td>\n",
       "      <td>Home and kitchen</td>\n",
       "      <td>5041.0</td>\n",
       "    </tr>\n",
       "    <tr>\n",
       "      <th>8</th>\n",
       "      <td>M</td>\n",
       "      <td>Clothing</td>\n",
       "      <td>3748.0</td>\n",
       "    </tr>\n",
       "    <tr>\n",
       "      <th>10</th>\n",
       "      <td>M</td>\n",
       "      <td>Footwear</td>\n",
       "      <td>3555.0</td>\n",
       "    </tr>\n",
       "    <tr>\n",
       "      <th>6</th>\n",
       "      <td>M</td>\n",
       "      <td>Bags</td>\n",
       "      <td>2346.0</td>\n",
       "    </tr>\n",
       "  </tbody>\n",
       "</table>\n",
       "</div>"
      ],
      "text/plain": [
       "   Gender          prod_cat     Qty\n",
       "1       F             Books  7070.0\n",
       "3       F       Electronics  5832.0\n",
       "5       F  Home and kitchen  4895.0\n",
       "4       F          Footwear  3716.0\n",
       "2       F          Clothing  3425.0\n",
       "0       F              Bags  2362.0\n",
       "7       M             Books  7587.0\n",
       "9       M       Electronics  6476.0\n",
       "11      M  Home and kitchen  5041.0\n",
       "8       M          Clothing  3748.0\n",
       "10      M          Footwear  3555.0\n",
       "6       M              Bags  2346.0"
      ]
     },
     "execution_count": 30,
     "metadata": {},
     "output_type": "execute_result"
    }
   ],
   "source": [
    "\n",
    "pd.pivot_table(data = Customer_Final, index= ['Gender','prod_cat'],values= 'Qty', aggfunc = 'sum').reset_index().sort_values(by=['Gender','Qty'],ascending = [True,False])"
   ]
  },
  {
   "cell_type": "code",
   "execution_count": 31,
   "id": "84960cbd",
   "metadata": {},
   "outputs": [
    {
     "name": "stdout",
     "output_type": "stream",
     "text": [
      "city with highest % of customers\n",
      "\n",
      "            Percentage_of_Customers\n",
      "city_code                         \n",
      "4.0                      10.509872\n"
     ]
    }
   ],
   "source": [
    "#6.Which City code has the maximum customers and what was the percentage of customers from that city?\n",
    "df=pd.DataFrame(Customer_Final.groupby('city_code').count().customer_Id)\n",
    "df.rename(columns = {'customer_Id':'Percentage_of_Customers'},inplace=True)\n",
    "df = df*100/df.sum()\n",
    "top = df.sort_values(by='Percentage_of_Customers',ascending=False).head(1)\n",
    "print('city with highest % of customers\\n\\n',top)\n"
   ]
  },
  {
   "cell_type": "code",
   "execution_count": 32,
   "id": "db24b7c8",
   "metadata": {},
   "outputs": [
    {
     "name": "stdout",
     "output_type": "stream",
     "text": [
      "city with highest % of customers\n",
      "\n",
      "            % of Customers\n",
      "city_code                \n",
      "4.0             10.509872\n"
     ]
    }
   ],
   "source": [
    "#or\n",
    "df = pd.pivot_table(data=Customer_Final,index='city_code',values ='customer_Id',aggfunc = 'count')\n",
    "top = (df*100/df.sum()).nlargest(columns = 'customer_Id', n=1).rename(columns={'customer_Id':'% of Customers'})\n",
    "print('city with highest % of customers\\n\\n',top)"
   ]
  },
  {
   "cell_type": "code",
   "execution_count": 33,
   "id": "2069de98",
   "metadata": {},
   "outputs": [],
   "source": [
    "#7.Which store type sells the maximum products by value and by quantity?"
   ]
  },
  {
   "cell_type": "code",
   "execution_count": 34,
   "id": "103a6eff",
   "metadata": {},
   "outputs": [
    {
     "name": "stdout",
     "output_type": "stream",
     "text": [
      "Highest selling store\n",
      "\n",
      "                 Qty\n",
      "Store_type         \n",
      "e-Shop      22763.0 \n",
      "\n",
      "Highest earning store\n",
      "\n",
      "               total_amt\n",
      "Store_type             \n",
      "e-Shop      19824816.05\n"
     ]
    }
   ],
   "source": [
    "top = pd.pivot_table(data=Customer_Final,index='Store_type', values='Qty',aggfunc = 'sum').nlargest(columns='Qty',n=1)\n",
    "\n",
    "top_rev = pd.pivot_table(data=Customer_Final,index='Store_type', values='total_amt',aggfunc = 'sum').nlargest(columns='total_amt',n=1)\n",
    "\n",
    "print('Highest selling store\\n\\n', top,'\\n\\nHighest earning store\\n\\n', top_rev)"
   ]
  },
  {
   "cell_type": "code",
   "execution_count": 35,
   "id": "f7c56389",
   "metadata": {},
   "outputs": [
    {
     "data": {
      "text/plain": [
       "Index(['customer_Id', 'DOB', 'Gender', 'city_code', 'transaction_id',\n",
       "       'tran_date', 'Qty', 'Rate', 'Tax', 'total_amt', 'Store_type',\n",
       "       'prod_cat', 'prod_subcat'],\n",
       "      dtype='object')"
      ]
     },
     "execution_count": 35,
     "metadata": {},
     "output_type": "execute_result"
    }
   ],
   "source": [
    "Customer_Final.columns"
   ]
  },
  {
   "cell_type": "code",
   "execution_count": 36,
   "id": "e610ca58",
   "metadata": {},
   "outputs": [
    {
     "name": "stdout",
     "output_type": "stream",
     "text": [
      "Total amount earned from the \"Electronics\" and \"Clothing\" categories from Flagship Stores: 3409559.27\n"
     ]
    }
   ],
   "source": [
    "#8.8.What was the total amount earned from the \"Electronics\" and \"Clothing\" categories from\n",
    "#Flagship Stores?\n",
    "\n",
    "x  = pd.pivot_table(data=Customer_Final,index = 'Store_type',columns='prod_cat', \n",
    "               values='total_amt',aggfunc='sum').loc['Flagship store',['Clothing','Electronics']].sum()\n",
    "print('Total amount earned from the \"Electronics\" and \"Clothing\" categories from Flagship Stores:',x)"
   ]
  },
  {
   "cell_type": "code",
   "execution_count": 37,
   "id": "ac3414cf",
   "metadata": {},
   "outputs": [
    {
     "name": "stdout",
     "output_type": "stream",
     "text": [
      "Total amount earned from \"Male\" customers under the \"Electronics\" category: 5703109.425\n"
     ]
    }
   ],
   "source": [
    "#9.What was the total amount earned from \"Male\" customers under the \"Electronics\" category?\n",
    "x  = pd.pivot_table(data=Customer_Final,index = 'Gender',columns='prod_cat', \n",
    "               values='total_amt',aggfunc='sum').loc['M','Electronics'].sum()\n",
    "print('Total amount earned from \"Male\" customers under the \"Electronics\" category:',x)"
   ]
  },
  {
   "cell_type": "code",
   "execution_count": 38,
   "id": "4539bbc4",
   "metadata": {
    "scrolled": true
   },
   "outputs": [
    {
     "data": {
      "text/html": [
       "<div>\n",
       "<style scoped>\n",
       "    .dataframe tbody tr th:only-of-type {\n",
       "        vertical-align: middle;\n",
       "    }\n",
       "\n",
       "    .dataframe tbody tr th {\n",
       "        vertical-align: top;\n",
       "    }\n",
       "\n",
       "    .dataframe thead th {\n",
       "        text-align: right;\n",
       "    }\n",
       "</style>\n",
       "<table border=\"1\" class=\"dataframe\">\n",
       "  <thead>\n",
       "    <tr style=\"text-align: right;\">\n",
       "      <th></th>\n",
       "      <th>Ten_plus_transactions</th>\n",
       "    </tr>\n",
       "    <tr>\n",
       "      <th>customer_Id</th>\n",
       "      <th></th>\n",
       "    </tr>\n",
       "  </thead>\n",
       "  <tbody>\n",
       "    <tr>\n",
       "      <th>266794</th>\n",
       "      <td>True</td>\n",
       "    </tr>\n",
       "    <tr>\n",
       "      <th>270535</th>\n",
       "      <td>True</td>\n",
       "    </tr>\n",
       "    <tr>\n",
       "      <th>270803</th>\n",
       "      <td>True</td>\n",
       "    </tr>\n",
       "    <tr>\n",
       "      <th>272741</th>\n",
       "      <td>True</td>\n",
       "    </tr>\n",
       "    <tr>\n",
       "      <th>273014</th>\n",
       "      <td>True</td>\n",
       "    </tr>\n",
       "    <tr>\n",
       "      <th>274227</th>\n",
       "      <td>True</td>\n",
       "    </tr>\n",
       "  </tbody>\n",
       "</table>\n",
       "</div>"
      ],
      "text/plain": [
       "             Ten_plus_transactions\n",
       "customer_Id                       \n",
       "266794                        True\n",
       "270535                        True\n",
       "270803                        True\n",
       "272741                        True\n",
       "273014                        True\n",
       "274227                        True"
      ]
     },
     "execution_count": 38,
     "metadata": {},
     "output_type": "execute_result"
    }
   ],
   "source": [
    "# 10 How many customers have more than 10 unique transactions, after removing all transactions\n",
    "# which have any negative amounts?\n",
    "df = Customer_Final[Customer_Final.total_amt > 0]\n",
    "df2 = pd.pivot_table(data=df, index='customer_Id',\n",
    "                     values='transaction_id', aggfunc=(lambda x: x.count() > 10)).rename(columns={'transaction_id':'Ten_plus_transactions'})\n",
    "\n",
    "df2[df2.Ten_plus_transactions==True]"
   ]
  },
  {
   "cell_type": "code",
   "execution_count": 39,
   "id": "b60c92cc",
   "metadata": {},
   "outputs": [],
   "source": [
    "#11. For all customers aged between 25 - 35, find out:\n",
    "#a. What was the total amount spent for “Electronics” and “Books” product categories?\n",
    "#b. What was the total amount spent by these customers between 1st Jan, 2014 to 1st Mar, 2014?"
   ]
  },
  {
   "cell_type": "code",
   "execution_count": 40,
   "id": "845f9c74",
   "metadata": {},
   "outputs": [],
   "source": [
    "from datetime import timedelta"
   ]
  },
  {
   "cell_type": "code",
   "execution_count": 71,
   "id": "2645f447",
   "metadata": {},
   "outputs": [
    {
     "data": {
      "text/plain": [
       "11197348.435"
      ]
     },
     "execution_count": 71,
     "metadata": {},
     "output_type": "execute_result"
    }
   ],
   "source": [
    "#a. What was the total amount spent for “Electronics” and “Books” product categories?\n",
    "Customer_Final['age'] = Customer_Final.tran_date-Customer_Final.DOB\n",
    "Customer_Final['age'] =  Customer_Final.age/timedelta(days= 365.25)\n",
    "Customer_Final['age'] = Customer_Final.age.astype(int)\n",
    "df = Customer_Final[Customer_Final.age.between(25,35)]\n",
    "df[(df.prod_cat=='Books')|(df.prod_cat=='Electronics')].total_amt.sum()\n"
   ]
  },
  {
   "cell_type": "code",
   "execution_count": 82,
   "id": "0b704428",
   "metadata": {},
   "outputs": [
    {
     "data": {
      "text/plain": [
       "1072243.38"
      ]
     },
     "execution_count": 82,
     "metadata": {},
     "output_type": "execute_result"
    }
   ],
   "source": [
    "#b. What was the total amount spent by these customers between 1st Jan, 2014 to 1st Mar, 2014?\n",
    "begin = dt.datetime(2014,1,1)\n",
    "end =  dt.datetime(2014,3,1)\n",
    "df[df.tran_date.between(begin,end)].total_amt.sum()"
   ]
  },
  {
   "cell_type": "code",
   "execution_count": 42,
   "id": "b4824beb",
   "metadata": {},
   "outputs": [
    {
     "name": "stdout",
     "output_type": "stream",
     "text": [
      "<class 'pandas.core.frame.DataFrame'>\n",
      "Int64Index: 23053 entries, 0 to 23052\n",
      "Data columns (total 14 columns):\n",
      " #   Column          Non-Null Count  Dtype         \n",
      "---  ------          --------------  -----         \n",
      " 0   customer_Id     23053 non-null  int64         \n",
      " 1   DOB             23053 non-null  datetime64[ns]\n",
      " 2   Gender          23044 non-null  object        \n",
      " 3   city_code       23045 non-null  object        \n",
      " 4   transaction_id  23053 non-null  int64         \n",
      " 5   tran_date       23053 non-null  datetime64[ns]\n",
      " 6   Qty             23053 non-null  float64       \n",
      " 7   Rate            23053 non-null  float64       \n",
      " 8   Tax             23053 non-null  float64       \n",
      " 9   total_amt       23053 non-null  float64       \n",
      " 10  Store_type      23053 non-null  object        \n",
      " 11  prod_cat        23053 non-null  object        \n",
      " 12  prod_subcat     23053 non-null  object        \n",
      " 13  age             23053 non-null  int64         \n",
      "dtypes: datetime64[ns](2), float64(4), int64(3), object(5)\n",
      "memory usage: 2.6+ MB\n"
     ]
    }
   ],
   "source": []
  },
  {
   "cell_type": "code",
   "execution_count": null,
   "id": "1fc454a3",
   "metadata": {},
   "outputs": [],
   "source": []
  }
 ],
 "metadata": {
  "hide_input": false,
  "kernelspec": {
   "display_name": "Python 3 (ipykernel)",
   "language": "python",
   "name": "python3"
  },
  "language_info": {
   "codemirror_mode": {
    "name": "ipython",
    "version": 3
   },
   "file_extension": ".py",
   "mimetype": "text/x-python",
   "name": "python",
   "nbconvert_exporter": "python",
   "pygments_lexer": "ipython3",
   "version": "3.9.12"
  },
  "toc": {
   "base_numbering": 1,
   "nav_menu": {},
   "number_sections": true,
   "sideBar": true,
   "skip_h1_title": false,
   "title_cell": "Table of Contents",
   "title_sidebar": "Contents",
   "toc_cell": false,
   "toc_position": {},
   "toc_section_display": true,
   "toc_window_display": false
  },
  "varInspector": {
   "cols": {
    "lenName": 16,
    "lenType": 16,
    "lenVar": 40
   },
   "kernels_config": {
    "python": {
     "delete_cmd_postfix": "",
     "delete_cmd_prefix": "del ",
     "library": "var_list.py",
     "varRefreshCmd": "print(var_dic_list())"
    },
    "r": {
     "delete_cmd_postfix": ") ",
     "delete_cmd_prefix": "rm(",
     "library": "var_list.r",
     "varRefreshCmd": "cat(var_dic_list()) "
    }
   },
   "types_to_exclude": [
    "module",
    "function",
    "builtin_function_or_method",
    "instance",
    "_Feature"
   ],
   "window_display": false
  }
 },
 "nbformat": 4,
 "nbformat_minor": 5
}
